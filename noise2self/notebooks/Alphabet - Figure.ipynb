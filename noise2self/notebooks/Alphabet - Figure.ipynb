{
 "cells": [
  {
   "cell_type": "code",
   "execution_count": 1,
   "metadata": {},
   "outputs": [],
   "source": [
    "import numpy as np\n",
    "import matplotlib.pyplot as plt"
   ]
  },
  {
   "cell_type": "code",
   "execution_count": 2,
   "metadata": {},
   "outputs": [],
   "source": [
    "import sys\n",
    "sys.path.append(\"..\")"
   ]
  },
  {
   "cell_type": "code",
   "execution_count": 3,
   "metadata": {
    "scrolled": true
   },
   "outputs": [],
   "source": [
    "%load_ext autoreload\n",
    "%autoreload 2"
   ]
  },
  {
   "cell_type": "code",
   "execution_count": 4,
   "metadata": {},
   "outputs": [],
   "source": [
    "dir = '../figs/theory2/'"
   ]
  },
  {
   "cell_type": "code",
   "execution_count": 6,
   "metadata": {},
   "outputs": [],
   "source": [
    "from util import plot_grid, plot_images, normalize, expand\n",
    "from skimage.transform import rescale, downscale_local_mean\n",
    "from torchvision.datasets import MNIST, FashionMNIST"
   ]
  },
  {
   "cell_type": "code",
   "execution_count": 7,
   "metadata": {},
   "outputs": [],
   "source": [
    "def mse(x, y):\n",
    "    return ((x - y)**2).mean()\n",
    "def psnr(x, y):\n",
    "    max_intensity = 1 if x.max() < 2 else 255\n",
    "    return 10*np.log10(max_intensity**2/mse(x,y))"
   ]
  },
  {
   "cell_type": "code",
   "execution_count": 8,
   "metadata": {},
   "outputs": [
    {
     "name": "stdout",
     "output_type": "stream",
     "text": [
      "Downloading http://yann.lecun.com/exdb/mnist/train-images-idx3-ubyte.gz\n",
      "Downloading http://yann.lecun.com/exdb/mnist/train-labels-idx1-ubyte.gz\n",
      "Downloading http://yann.lecun.com/exdb/mnist/t10k-images-idx3-ubyte.gz\n",
      "Downloading http://yann.lecun.com/exdb/mnist/t10k-labels-idx1-ubyte.gz\n",
      "Processing...\n",
      "Done!\n"
     ]
    }
   ],
   "source": [
    "mnist = MNIST('../data/MNIST', download=True, train=True)"
   ]
  },
  {
   "cell_type": "code",
   "execution_count": 9,
   "metadata": {},
   "outputs": [],
   "source": [
    "alphabet = np.concatenate([downscale_local_mean(np.array(mnist[i][0]), (2, 2))[np.newaxis] for i in range(30)])\n",
    "alphabet = alphabet/255"
   ]
  },
  {
   "cell_type": "code",
   "execution_count": 10,
   "metadata": {},
   "outputs": [],
   "source": [
    "noise_std = 0.8"
   ]
  },
  {
   "cell_type": "code",
   "execution_count": 11,
   "metadata": {},
   "outputs": [],
   "source": [
    "np.random.seed(1)\n",
    "images = alphabet[:3]\n",
    "noisy_images = images + noise_std*np.random.randn(*images.shape)"
   ]
  },
  {
   "cell_type": "code",
   "execution_count": 12,
   "metadata": {},
   "outputs": [
    {
     "data": {
      "image/png": "[encoded data removed]",
      "text/plain": [
       "<Figure size 864x288 with 3 Axes>"
      ]
     },
     "metadata": {},
     "output_type": "display_data"
    }
   ],
   "source": [
    "plot_images([np.clip(images[i],0,1) for i in range(3)])"
   ]
  },
  {
   "cell_type": "code",
   "execution_count": 13,
   "metadata": {},
   "outputs": [
    {
     "data": {
      "image/png": "[encoded data removed]",
      "text/plain": [
       "<Figure size 864x288 with 3 Axes>"
      ]
     },
     "metadata": {},
     "output_type": "display_data"
    }
   ],
   "source": [
    "plot_images([np.clip(noisy_images[i],0,1) for i in range(3)])"
   ]
  },
  {
   "cell_type": "code",
   "execution_count": 14,
   "metadata": {},
   "outputs": [],
   "source": [
    "K = np.cov(alphabet.reshape(len(alphabet), -1).T)\n",
    "u = alphabet.reshape(len(alphabet), -1).mean(axis = 0)\n",
    "L = np.eye(len(K)) * noise_std**2"
   ]
  },
  {
   "cell_type": "code",
   "execution_count": 15,
   "metadata": {},
   "outputs": [],
   "source": [
    "np.random.seed(1)\n",
    "N = len(K)\n",
    "size = alphabet[0].shape[-1]\n",
    "samples = 6\n",
    "y = u + np.random.multivariate_normal(np.zeros(N), K, size=samples)\n",
    "s = np.random.multivariate_normal(np.zeros(N), L, size=samples)\n",
    "x = y + s\n",
    "gaussian_noisy_images = x.reshape(len(x), size, size)\n",
    "gaussian_images = y.reshape(len(y), size, size)"
   ]
  },
  {
   "cell_type": "code",
   "execution_count": 16,
   "metadata": {},
   "outputs": [
    {
     "data": {
      "image/png": "[encoded data removed]",
      "text/plain": [
       "<Figure size 864x288 with 3 Axes>"
      ]
     },
     "metadata": {},
     "output_type": "display_data"
    }
   ],
   "source": [
    "plot_images([np.clip(gaussian_images[i],0,1) for i in range(3)])"
   ]
  },
  {
   "cell_type": "code",
   "execution_count": 17,
   "metadata": {},
   "outputs": [
    {
     "data": {
      "image/png": "[encoded data removed]",
      "text/plain": [
       "<Figure size 864x288 with 3 Axes>"
      ]
     },
     "metadata": {},
     "output_type": "display_data"
    }
   ],
   "source": [
    "plot_images([np.clip(gaussian_noisy_images[i],0,1) for i in range(3)])"
   ]
  },
  {
   "cell_type": "code",
   "execution_count": 18,
   "metadata": {},
   "outputs": [],
   "source": [
    "def optimal_predictor(x, alphabet, std):\n",
    "    squared_distances = ((x - alphabet)**2).sum(axis = (-1,-2))\n",
    "    squared_distances = squared_distances - squared_distances.min()\n",
    "    weights = np.exp(-squared_distances/(2 * std * std))\n",
    "    weights = weights/weights.sum()\n",
    "    return np.sum(weights[:, np.newaxis, np.newaxis] * alphabet, axis = 0)"
   ]
  },
  {
   "cell_type": "code",
   "execution_count": 19,
   "metadata": {},
   "outputs": [],
   "source": [
    "def optimal_predictor_mask(x, alphabet, std, n_masks = 100):\n",
    "    q = np.random.rand(*x.shape)\n",
    "\n",
    "    result = np.zeros(x.shape)\n",
    "\n",
    "    for i in range(n_masks):\n",
    "        mask = (q > i/n_masks) & (q < (i+1)/n_masks)\n",
    "        inv_mask = 1 - mask\n",
    "        squared_distances = ((x*inv_mask - alphabet*inv_mask)**2).sum(axis = (-1,-2))\n",
    "        squared_distances = squared_distances - squared_distances.min()\n",
    "        weights = np.exp(-squared_distances/(2 * std * std))\n",
    "        weights = weights/weights.sum()\n",
    "        inferred_image = np.sum(weights[:, np.newaxis, np.newaxis] * alphabet, axis = 0)\n",
    "        result += inferred_image * mask\n",
    "    return result"
   ]
  },
  {
   "cell_type": "code",
   "execution_count": 20,
   "metadata": {},
   "outputs": [],
   "source": [
    "def gaussian_posterior_variance(K, L, full = False):\n",
    "    center = len(K)//2\n",
    "    if full:\n",
    "        return np.trace(K - K.dot(np.linalg.solve(K + L, K)))/len(K)\n",
    "    else:\n",
    "        return (K[center, center] - K[center].dot(np.linalg.solve(K + L, K[:,center])))\n",
    "\n",
    "def gaussian_posterior_variance_masked(K, L=0, full = False):\n",
    "    K_y = K + L\n",
    "    \n",
    "    total_var = 0\n",
    "\n",
    "    for i in range(len(K)):\n",
    "        obs = (np.arange(len(K)) != i)\n",
    "        K_y_obs = K_y[obs,:][:, obs]\n",
    "        Sigma_obs_i = K[i, i] - np.dot(K[i,obs], np.linalg.solve(K_y_obs, K[obs,i]))\n",
    "        \n",
    "        if not full:\n",
    "            total_var = len(K)*Sigma_obs_i\n",
    "            break\n",
    "        else:\n",
    "            total_var += Sigma_obs_i\n",
    "    return total_var/len(K)"
   ]
  },
  {
   "cell_type": "code",
   "execution_count": 21,
   "metadata": {},
   "outputs": [],
   "source": [
    "def gaussian_predictor(x, K, L):\n",
    "    x_long = x.reshape(-1)\n",
    "    y_hat = K.dot(np.linalg.solve(K + L, x_long))\n",
    "    \n",
    "    return y_hat.reshape(x.shape)\n",
    "def gaussian_predictor_masked(x, K, L):\n",
    "    K_y = K + L\n",
    "    x_long = x.reshape(-1)\n",
    "    y_hat = np.zeros(x_long.shape)\n",
    "    for i in range(len(K)):\n",
    "        obs = (np.arange(len(K)) != i)\n",
    "        K_y_obs = K_y[obs,:][:, obs]\n",
    "        y_hat[i] = K[i:i+1,obs].dot(np.linalg.solve(K_y_obs, x_long[obs]))[0]\n",
    "    return y_hat.reshape(x.shape)"
   ]
  },
  {
   "cell_type": "code",
   "execution_count": 22,
   "metadata": {},
   "outputs": [],
   "source": [
    "denoised_images = [optimal_predictor_mask(x, alphabet, noise_std) for x in noisy_images]\n",
    "gaussian_denoised_images = [gaussian_predictor_masked(x, K, L) for x in gaussian_noisy_images]"
   ]
  },
  {
   "cell_type": "code",
   "execution_count": 23,
   "metadata": {},
   "outputs": [
    {
     "data": {
      "image/png": "[encoded data removed]",
      "text/plain": [
       "<Figure size 864x288 with 3 Axes>"
      ]
     },
     "metadata": {},
     "output_type": "display_data"
    }
   ],
   "source": [
    "plot_images([np.clip(denoised_images[i],0,1) for i in range(3)])"
   ]
  },
  {
   "cell_type": "code",
   "execution_count": 24,
   "metadata": {},
   "outputs": [
    {
     "data": {
      "image/png": "[encoded data removed]",
      "text/plain": [
       "<Figure size 864x288 with 3 Axes>"
      ]
     },
     "metadata": {},
     "output_type": "display_data"
    }
   ],
   "source": [
    "plot_images([np.clip(gaussian_denoised_images[i],0,1) for i in range(3)])"
   ]
  },
  {
   "cell_type": "code",
   "execution_count": 25,
   "metadata": {},
   "outputs": [],
   "source": [
    "# plt.imsave(dir + 'alphabet_clean.png', \n",
    "#                expand(np.clip(images[0], 0, 1), 5), cmap = 'Greys_r')\n",
    "# plt.imsave(dir + 'alphabet_noisy.png', \n",
    "#                expand(np.clip(noisy_images[0], 0, 1), 5), cmap = 'Greys_r')\n",
    "# plt.imsave(dir + 'alphabet_denoised.png', \n",
    "#                expand(np.clip(denoised_images[0], 0, 1), 5), cmap = 'Greys_r')\n",
    "# plt.imsave(dir + 'gaussian_clean.png', \n",
    "#                expand(np.clip(gaussian_images[0], 0, 1), 5), cmap = 'Greys_r')\n",
    "# plt.imsave(dir + 'gaussian_noisy.png', \n",
    "#                expand(np.clip(gaussian_noisy_images[0], 0, 1), 5), cmap = 'Greys_r')\n",
    "# plt.imsave(dir + 'gaussian_denoised.png', \n",
    "#                expand(np.clip(gaussian_denoised_images[0], 0, 1), 5), cmap = 'Greys_r')"
   ]
  },
  {
   "cell_type": "code",
   "execution_count": 26,
   "metadata": {},
   "outputs": [],
   "source": [
    "sigma_range = np.arange(0.1, 1.5, 0.1)\n",
    "n_samples = 5000\n",
    "\n",
    "np.random.seed(3)\n",
    "reconstruction_mses = [\n",
    "    [mse(alphabet[i % len(alphabet)], \n",
    "         optimal_predictor(alphabet[i % len(alphabet)] + sigma*np.random.standard_normal(alphabet[0].shape), alphabet, sigma))\n",
    "     for i in range(n_samples)]\n",
    "    for sigma in sigma_range]"
   ]
  },
  {
   "cell_type": "code",
   "execution_count": 27,
   "metadata": {},
   "outputs": [],
   "source": [
    "n_samples = 500\n",
    "np.random.seed(3)\n",
    "reconstruction_masked_mses = [\n",
    "    [mse(alphabet[i % len(alphabet)], \n",
    "         optimal_predictor_mask(alphabet[i % len(alphabet)] + sigma*np.random.standard_normal(alphabet[0].shape), alphabet, sigma))\n",
    "     for i in range(n_samples)]\n",
    "    for sigma in sigma_range]"
   ]
  },
  {
   "cell_type": "code",
   "execution_count": 28,
   "metadata": {},
   "outputs": [],
   "source": [
    "mses_gaussian = [gaussian_posterior_variance(K, sigma**2 * np.eye(len(K)), full = True) for sigma in sigma_range]\n",
    "mses_gaussian_masked = [gaussian_posterior_variance_masked(K, sigma**2 * np.eye(len(K)), full = True) for sigma in sigma_range]"
   ]
  },
  {
   "cell_type": "code",
   "execution_count": 29,
   "metadata": {},
   "outputs": [],
   "source": [
    "mses_masked = np.array([np.mean(t) for t in reconstruction_masked_mses])\n",
    "median_mses_masked = np.array([np.median(t) for t in reconstruction_masked_mses])\n",
    "stds_masked = np.array([np.std(t) for t in reconstruction_masked_mses])\n",
    "mean_stds_masked = stds_masked/np.sqrt(len(reconstruction_masked_mses[0]))\n",
    "\n",
    "mses = np.array([np.mean(t) for t in reconstruction_mses])\n",
    "median_mses = np.array([np.median(t) for t in reconstruction_mses])\n",
    "stds = np.array([np.std(t) for t in reconstruction_mses])\n",
    "mean_stds = stds/np.sqrt(len(reconstruction_mses[0]))"
   ]
  },
  {
   "cell_type": "code",
   "execution_count": 30,
   "metadata": {},
   "outputs": [
    {
     "data": {
      "text/plain": [
       "Text(0,0.5,'MSE')"
      ]
     },
     "execution_count": 30,
     "metadata": {},
     "output_type": "execute_result"
    },
    {
     "data": {
      "image/png": "[encoded data removed]",
      "text/plain": [
       "<Figure size 432x288 with 1 Axes>"
      ]
     },
     "metadata": {
      "needs_background": "light"
     },
     "output_type": "display_data"
    }
   ],
   "source": [
    "plt.plot(sigma_range, mses_gaussian_masked, label = 'Gaussian Process', color = 'C3')\n",
    "\n",
    "plt.plot(sigma_range, mses_masked, label = 'Alphabet')\n",
    "plt.fill_between(sigma_range, mses_masked - 2*mean_stds_masked, mses_masked + 2*mean_stds_masked,\n",
    "                 color='C0', alpha=0.2)\n",
    "\n",
    "plt.yticks([0.01, 0.03])\n",
    "\n",
    "plt.legend()\n",
    "plt.xlabel(\"Noise Standard Deviation\")\n",
    "plt.title(\"Expected MSE of Optimal J-independent Predictor\")\n",
    "plt.ylabel(\"MSE\")\n",
    "\n",
    "# plt.savefig(dir + 'alphabet.pdf')"
   ]
  },
  {
   "cell_type": "markdown",
   "metadata": {},
   "source": [
    "# Export bare versions for Illustrator"
   ]
  },
  {
   "cell_type": "code",
   "execution_count": 31,
   "metadata": {},
   "outputs": [
    {
     "data": {
      "image/png": "[encoded data removed]",
      "text/plain": [
       "<Figure size 432x288 with 1 Axes>"
      ]
     },
     "metadata": {
      "needs_background": "light"
     },
     "output_type": "display_data"
    }
   ],
   "source": [
    "plt.plot(sigma_range, mses_gaussian_masked, label = 'Gaussian Process', color = 'C3')\n",
    "\n",
    "plt.plot(sigma_range, mses_masked, label = 'Alphabet')\n",
    "plt.fill_between(sigma_range, mses_masked - 2*mean_stds_masked, mses_masked + 2*mean_stds_masked,\n",
    "                 color='C0', alpha=0.2)\n",
    "\n",
    "plt.yticks([0.01, 0.03])\n",
    "plt.gca().yaxis.tick_right()\n",
    "\n",
    "# Hide the right and top spines\n",
    "plt.gca().spines['left'].set_visible(False)\n",
    "plt.gca().spines['top'].set_visible(False)\n",
    "\n",
    "# plt.savefig(dir + 'alphabet_bare.pdf')"
   ]
  }
 ],
 "metadata": {
  "kernelspec": {
   "display_name": "pytorch",
   "language": "python",
   "name": "pytorch"
  },
  "language_info": {
   "codemirror_mode": {
    "name": "ipython",
    "version": 3
   },
   "file_extension": ".py",
   "mimetype": "text/x-python",
   "name": "python",
   "nbconvert_exporter": "python",
   "pygments_lexer": "ipython3",
   "version": "3.6.7"
  }
 },
 "nbformat": 4,
 "nbformat_minor": 2
}
